{
  "nbformat": 4,
  "nbformat_minor": 0,
  "metadata": {
    "colab": {
      "provenance": [],
      "include_colab_link": true
    },
    "kernelspec": {
      "name": "python3",
      "display_name": "Python 3"
    },
    "language_info": {
      "name": "python"
    }
  },
  "cells": [
    {
      "cell_type": "markdown",
      "metadata": {
        "id": "view-in-github",
        "colab_type": "text"
      },
      "source": [
        "<a href=\"https://colab.research.google.com/github/antonum/Timescale-Workshops/blob/main/Terraform_Timescale_Cloud.ipynb\" target=\"_parent\"><img src=\"https://colab.research.google.com/assets/colab-badge.svg\" alt=\"Open In Colab\"/></a>"
      ]
    },
    {
      "cell_type": "markdown",
      "source": [
        "## Provision Timescale service with Terraform\n",
        "\n",
        "### References\n",
        "\n",
        "- Timescale terraform provider https://registry.terraform.io/providers/timescale/timescale/latest/docs\n",
        "- Timescale documentation https://docs.timescale.com/use-timescale/latest/integrations/terraform/\n",
        "\n",
        "### Prerequisites\n",
        "\n",
        "You should have an existing project in the Terraform cloud. You can create a free 30 days trial (no credit card required) here: https://console.cloud.timescale.com/"
      ],
      "metadata": {
        "id": "mWAOj8uRCDUk"
      }
    },
    {
      "cell_type": "code",
      "execution_count": null,
      "metadata": {
        "id": "7j4lEtGU7sby"
      },
      "outputs": [],
      "source": [
        "%%bash\n",
        "# install terraform\n",
        "wget -O - https://apt.releases.hashicorp.com/gpg | sudo gpg --dearmor -o /usr/share/keyrings/hashicorp-archive-keyring.gpg\n",
        "echo \"deb [arch=$(dpkg --print-architecture) signed-by=/usr/share/keyrings/hashicorp-archive-keyring.gpg] https://apt.releases.hashicorp.com $(lsb_release -cs) main\" | sudo tee /etc/apt/sources.list.d/hashicorp.list\n",
        "sudo apt update && sudo apt install terraform -q"
      ]
    },
    {
      "cell_type": "markdown",
      "source": [
        "## Create .tf files\n",
        "\n",
        "Following [Terraform best practices](https://www.terraform-best-practices.com/code-structure#getting-started-with-the-structuring-of-terraform-configurations) we'll structure code as `main.tf`, `variables.tf` and `outputs.tf` and `terraform.tfvars`. The code below creates these files in the home directory of this notebook."
      ],
      "metadata": {
        "id": "cdfw3DKGDxDy"
      }
    },
    {
      "cell_type": "markdown",
      "source": [
        "Instead of putting your credentials in `terraform.tfvars` you can use `-var` argment in terraform command line or environment variables:\n",
        "\n",
        "```\n",
        "export TF_VAR_ts_access_key=01JR8823FVNHNQZY0TJBXXXXX\n",
        "export TF_VAR_ts_secret_key=j68Od78cDOKJItUCnWoC7PQPkGSkIpbPaaU2aquwkErrqIYgB3xCmAxxxXXXxx\n",
        "export TF_VAR_ts_project_id=ocssxxxx\n",
        "```\n"
      ],
      "metadata": {
        "id": "nNKmgESgFdJQ"
      }
    },
    {
      "cell_type": "code",
      "source": [
        "%%bash\n",
        "# Create terraform.tfvars\n",
        "tee terraform.tfvars <<'EOF'\n",
        "# use keys and project ID from your existing project\n",
        "\n",
        "ts_access_key=\"01JR8823FVNHNQZY0TJBXXXX\"\n",
        "ts_secret_key=\"j68Od78cDOKJItUCnWoC7PQPkGSkIpbPaaU2aquwkErrqIYgB3xCmAQXV71xxxxx\"\n",
        "ts_project_id=\"ocssgixxxx\"\n",
        "\n",
        "EOF"
      ],
      "metadata": {
        "id": "_X2C05u0E0Gw"
      },
      "execution_count": null,
      "outputs": []
    },
    {
      "cell_type": "code",
      "source": [
        "%%bash\n",
        "# Create main.tf\n",
        "tee main.tf <<EOF\n",
        "terraform {\n",
        "  required_providers {\n",
        "    timescale = {\n",
        "      source  = \"timescale/timescale\"\n",
        "      version = \"~> 1.13.1\"\n",
        "    }\n",
        "  }\n",
        "}\n",
        "\n",
        "# Authenticate using client credentials.\n",
        "# They are issued through the Timescale UI.\n",
        "# When required, they will exchange for a short-lived JWT to do the calls.\n",
        "provider \"timescale\" {\n",
        "  project_id = var.ts_project_id\n",
        "  access_key = var.ts_access_key\n",
        "  secret_key = var.ts_secret_key\n",
        "}\n",
        "\n",
        "resource \"timescale_service\" \"test\" {\n",
        "  name       = \"anton-tf-test\"\n",
        "  milli_cpu  = 500\n",
        "  memory_gb  = 2\n",
        "  region_code = \"us-east-1\"\n",
        "  enable_ha_replica = false\n",
        "  timeouts = {\n",
        "    create = \"30m\"\n",
        "  }\n",
        "}\n",
        "EOF\n",
        "\n"
      ],
      "metadata": {
        "id": "sLSA-di28E--"
      },
      "execution_count": null,
      "outputs": []
    },
    {
      "cell_type": "code",
      "source": [
        "%%bash\n",
        "# Create variables.tf\n",
        "tee variables.tf <<EOF\n",
        "variable \"ts_project_id\" {\n",
        "  type = string\n",
        "  //default = \"ocssgijxxx\"\n",
        "}\n",
        "\n",
        "variable \"ts_access_key\" {\n",
        "  type = string\n",
        "  //default = \"01JR8823FVNHNQZY0TJB6XXXXX\"\n",
        "}\n",
        "\n",
        "variable \"ts_secret_key\" {\n",
        "  type      = string\n",
        "  sensitive = true\n",
        "  //default = \"j68Od78cDOKJItUCnWoC7PQPkGSkIpbPaaU2aquwkErrqIYgB3xCmxxXXxxXX\"\n",
        "}\n",
        "EOF"
      ],
      "metadata": {
        "id": "9hqB90hq8mtR"
      },
      "execution_count": null,
      "outputs": []
    },
    {
      "cell_type": "code",
      "source": [
        "%%bash\n",
        "# Create outputs.tf\n",
        "tee outputs.tf <<'EOF'\n",
        "output \"timescale_service_hostname\" {\n",
        "  value = timescale_service.test.hostname\n",
        "}\n",
        "\n",
        "output \"timescale_service_port\" {\n",
        "  value = timescale_service.test.port\n",
        "}\n",
        "\n",
        "output \"timescale_service_password\" {\n",
        "  value = timescale_service.test.password\n",
        "  sensitive = true\n",
        "}\n",
        "\n",
        "output \"timescale_service_psql\" {\n",
        "  value = \"psql -d \\\"postgres://tsdbadmin:${timescale_service.test.password}@${timescale_service.test.hostname}:${timescale_service.test.port}/tsdb?sslmode=require\\\"\"\n",
        "  sensitive = true\n",
        "}\n",
        "EOF"
      ],
      "metadata": {
        "id": "eRsAOBbI8z1Y"
      },
      "execution_count": null,
      "outputs": []
    },
    {
      "cell_type": "code",
      "source": [
        "%%bash\n",
        "terraform init"
      ],
      "metadata": {
        "id": "vRuyFLlJ_S1u"
      },
      "execution_count": null,
      "outputs": []
    },
    {
      "cell_type": "code",
      "source": [
        "%%bash\n",
        "terraform validate"
      ],
      "metadata": {
        "id": "VSsTJ4Ql_ZkV"
      },
      "execution_count": null,
      "outputs": []
    },
    {
      "cell_type": "code",
      "source": [
        "%%bash\n",
        "terraform plan"
      ],
      "metadata": {
        "id": "8bW3GRwoGLPX"
      },
      "execution_count": null,
      "outputs": []
    },
    {
      "cell_type": "markdown",
      "source": [
        "## Provision Timescale Cloud service\n",
        "\n",
        "In the cell below enter access key, secret key and project ID of your timescale cloud project. To get the key navigate to Project (upper left corner) -> Project Settings -> Client Credentials -> Create Credentials\n",
        "\n",
        "**WARNING!!!** provisioning new service on Timescale Cloud might incur additional costs. Make sure to delete the service. Cleanup cell below."
      ],
      "metadata": {
        "id": "3EB9JnZa_7ij"
      }
    },
    {
      "cell_type": "code",
      "source": [
        "%%bash\n",
        "terraform apply  -auto-approve"
      ],
      "metadata": {
        "id": "rOwW5YgR_f9Q"
      },
      "execution_count": null,
      "outputs": []
    },
    {
      "cell_type": "code",
      "source": [
        "# output psql connection string for your service\n",
        "!terraform output timescale_service_psql"
      ],
      "metadata": {
        "id": "PWpepo5HAEYM"
      },
      "execution_count": null,
      "outputs": []
    },
    {
      "cell_type": "markdown",
      "source": [
        "## Cleanup"
      ],
      "metadata": {
        "id": "1mRqRIzuDOP2"
      }
    },
    {
      "cell_type": "code",
      "source": [
        "%%bash\n",
        "# delete service\n",
        "terraform destroy  -auto-approve"
      ],
      "metadata": {
        "id": "T6mb2KlvDGvy"
      },
      "execution_count": null,
      "outputs": []
    }
  ]
}