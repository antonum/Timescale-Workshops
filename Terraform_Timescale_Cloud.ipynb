{
  "nbformat": 4,
  "nbformat_minor": 0,
  "metadata": {
    "colab": {
      "provenance": [],
      "authorship_tag": "ABX9TyNrLEdZ2YVBDEHu/UO3U6t7",
      "include_colab_link": true
    },
    "kernelspec": {
      "name": "python3",
      "display_name": "Python 3"
    },
    "language_info": {
      "name": "python"
    }
  },
  "cells": [
    {
      "cell_type": "markdown",
      "metadata": {
        "id": "view-in-github",
        "colab_type": "text"
      },
      "source": [
        "<a href=\"https://colab.research.google.com/github/antonum/Timescale-Workshops/blob/main/Terraform_Timescale_Cloud.ipynb\" target=\"_parent\"><img src=\"https://colab.research.google.com/assets/colab-badge.svg\" alt=\"Open In Colab\"/></a>"
      ]
    },
    {
      "cell_type": "markdown",
      "source": [
        "## Provision Timescale service with Terraform\n",
        "\n",
        "### References\n",
        "\n",
        "- Timescale terraform provider https://registry.terraform.io/providers/timescale/timescale/latest/docs\n",
        "- Timescale documentation https://docs.timescale.com/use-timescale/latest/integrations/terraform/\n",
        "\n",
        "### Prerequisites\n",
        "\n",
        "You should have an existing project in the Terraform cloud. You can create a free 30 days trial (no credit card required) here: https://console.cloud.timescale.com/"
      ],
      "metadata": {
        "id": "mWAOj8uRCDUk"
      }
    },
    {
      "cell_type": "code",
      "execution_count": 2,
      "metadata": {
        "colab": {
          "base_uri": "https://localhost:8080/"
        },
        "id": "7j4lEtGU7sby",
        "outputId": "1ab22452-624d-45f0-f99a-2c2c013f2b84"
      },
      "outputs": [
        {
          "output_type": "stream",
          "name": "stdout",
          "text": [
            "deb [arch=amd64 signed-by=/usr/share/keyrings/hashicorp-archive-keyring.gpg] https://apt.releases.hashicorp.com jammy main\n",
            "Get:1 https://apt.releases.hashicorp.com jammy InRelease [12.9 kB]\n",
            "Get:2 https://cloud.r-project.org/bin/linux/ubuntu jammy-cran40/ InRelease [3,632 B]\n",
            "Get:3 https://developer.download.nvidia.com/compute/cuda/repos/ubuntu2204/x86_64  InRelease [1,581 B]\n",
            "Get:4 http://security.ubuntu.com/ubuntu jammy-security InRelease [129 kB]\n",
            "Get:5 https://r2u.stat.illinois.edu/ubuntu jammy InRelease [6,555 B]\n",
            "Hit:6 http://archive.ubuntu.com/ubuntu jammy InRelease\n",
            "Get:7 https://apt.releases.hashicorp.com jammy/main amd64 Packages [217 kB]\n",
            "Get:8 http://archive.ubuntu.com/ubuntu jammy-updates InRelease [128 kB]\n",
            "Get:9 https://developer.download.nvidia.com/compute/cuda/repos/ubuntu2204/x86_64  Packages [1,383 kB]\n",
            "Get:10 https://ppa.launchpadcontent.net/deadsnakes/ppa/ubuntu jammy InRelease [18.1 kB]\n",
            "Hit:11 https://ppa.launchpadcontent.net/graphics-drivers/ppa/ubuntu jammy InRelease\n",
            "Get:12 https://r2u.stat.illinois.edu/ubuntu jammy/main all Packages [8,824 kB]\n",
            "Hit:13 https://ppa.launchpadcontent.net/ubuntugis/ppa/ubuntu jammy InRelease\n",
            "Get:14 http://archive.ubuntu.com/ubuntu jammy-backports InRelease [127 kB]\n",
            "Get:15 http://security.ubuntu.com/ubuntu jammy-security/universe amd64 Packages [1,243 kB]\n",
            "Get:16 https://r2u.stat.illinois.edu/ubuntu jammy/main amd64 Packages [2,688 kB]\n",
            "Get:17 https://ppa.launchpadcontent.net/deadsnakes/ppa/ubuntu jammy/main amd64 Packages [34.3 kB]\n",
            "Get:18 http://security.ubuntu.com/ubuntu jammy-security/restricted amd64 Packages [4,000 kB]\n",
            "Get:19 http://security.ubuntu.com/ubuntu jammy-security/main amd64 Packages [2,788 kB]\n",
            "Get:20 http://archive.ubuntu.com/ubuntu jammy-updates/universe amd64 Packages [1,542 kB]\n",
            "Get:21 http://archive.ubuntu.com/ubuntu jammy-updates/main amd64 Packages [3,099 kB]\n",
            "Fetched 26.2 MB in 4s (6,020 kB/s)\n",
            "Reading package lists...\n",
            "Building dependency tree...\n",
            "Reading state information...\n",
            "47 packages can be upgraded. Run 'apt list --upgradable' to see them.\n",
            "Reading package lists...\n",
            "Building dependency tree...\n",
            "Reading state information...\n",
            "The following NEW packages will be installed:\n",
            "  terraform\n",
            "0 upgraded, 1 newly installed, 0 to remove and 47 not upgraded.\n",
            "Need to get 27.6 MB of archives.\n",
            "After this operation, 90.6 MB of additional disk space will be used.\n",
            "Get:1 https://apt.releases.hashicorp.com jammy/main amd64 terraform amd64 1.11.4-1 [27.6 MB]\n",
            "Fetched 27.6 MB in 0s (59.5 MB/s)\n",
            "Selecting previously unselected package terraform.\r\n",
            "(Reading database ... \r(Reading database ... 5%\r(Reading database ... 10%\r(Reading database ... 15%\r(Reading database ... 20%\r(Reading database ... 25%\r(Reading database ... 30%\r(Reading database ... 35%\r(Reading database ... 40%\r(Reading database ... 45%\r(Reading database ... 50%\r(Reading database ... 55%\r(Reading database ... 60%\r(Reading database ... 65%\r(Reading database ... 70%\r(Reading database ... 75%\r(Reading database ... 80%\r(Reading database ... 85%\r(Reading database ... 90%\r(Reading database ... 95%\r(Reading database ... 100%\r(Reading database ... 126213 files and directories currently installed.)\r\n",
            "Preparing to unpack .../terraform_1.11.4-1_amd64.deb ...\r\n",
            "Unpacking terraform (1.11.4-1) ...\r\n",
            "Setting up terraform (1.11.4-1) ...\r\n"
          ]
        },
        {
          "output_type": "stream",
          "name": "stderr",
          "text": [
            "--2025-04-10 00:28:19--  https://apt.releases.hashicorp.com/gpg\n",
            "Resolving apt.releases.hashicorp.com (apt.releases.hashicorp.com)... 18.154.185.73, 18.154.185.31, 18.154.185.57, ...\n",
            "Connecting to apt.releases.hashicorp.com (apt.releases.hashicorp.com)|18.154.185.73|:443... connected.\n",
            "HTTP request sent, awaiting response... 200 OK\n",
            "Length: 3980 (3.9K) [binary/octet-stream]\n",
            "Saving to: ‘STDOUT’\n",
            "\n",
            "     0K ...                                                   100% 1.21G=0s\n",
            "\n",
            "2025-04-10 00:28:19 (1.21 GB/s) - written to stdout [3980/3980]\n",
            "\n",
            "\n",
            "WARNING: apt does not have a stable CLI interface. Use with caution in scripts.\n",
            "\n",
            "W: Skipping acquire of configured file 'main/source/Sources' as repository 'https://r2u.stat.illinois.edu/ubuntu jammy InRelease' does not seem to provide it (sources.list entry misspelt?)\n",
            "\n",
            "WARNING: apt does not have a stable CLI interface. Use with caution in scripts.\n",
            "\n",
            "debconf: unable to initialize frontend: Dialog\n",
            "debconf: (No usable dialog-like program is installed, so the dialog based frontend cannot be used. at /usr/share/perl5/Debconf/FrontEnd/Dialog.pm line 78, <> line 1.)\n",
            "debconf: falling back to frontend: Readline\n",
            "debconf: unable to initialize frontend: Readline\n",
            "debconf: (This frontend requires a controlling tty.)\n",
            "debconf: falling back to frontend: Teletype\n",
            "dpkg-preconfigure: unable to re-open stdin: \n"
          ]
        }
      ],
      "source": [
        "%%bash\n",
        "# install terraform\n",
        "wget -O - https://apt.releases.hashicorp.com/gpg | sudo gpg --dearmor -o /usr/share/keyrings/hashicorp-archive-keyring.gpg\n",
        "echo \"deb [arch=$(dpkg --print-architecture) signed-by=/usr/share/keyrings/hashicorp-archive-keyring.gpg] https://apt.releases.hashicorp.com $(lsb_release -cs) main\" | sudo tee /etc/apt/sources.list.d/hashicorp.list\n",
        "sudo apt update && sudo apt install terraform -q"
      ]
    },
    {
      "cell_type": "markdown",
      "source": [
        "## Create .tf files\n",
        "\n",
        "Following [Terraform best practices](https://www.terraform-best-practices.com/code-structure#getting-started-with-the-structuring-of-terraform-configurations) we'll structure code as `main.tf`, `variables.tf` and `outputs.tf` and `terraform.tfvars`. The code below creates these files in the home directory of this notebook."
      ],
      "metadata": {
        "id": "cdfw3DKGDxDy"
      }
    },
    {
      "cell_type": "markdown",
      "source": [
        "Instead of putting your credentials in `terraform.tfvars` you can use `-var` argment in terraform command line or environment variables:\n",
        "\n",
        "```\n",
        "export TF_VAR_ts_access_key=01JR8823FVNHNQZY0TJBXXXXX\n",
        "export TF_VAR_ts_secret_key=j68Od78cDOKJItUCnWoC7PQPkGSkIpbPaaU2aquwkErrqIYgB3xCmAxxxXXXxx\n",
        "export TF_VAR_ts_project_id=ocssxxxx\n",
        "```\n"
      ],
      "metadata": {
        "id": "nNKmgESgFdJQ"
      }
    },
    {
      "cell_type": "code",
      "source": [
        "%%bash\n",
        "# Create terraform.tfvars\n",
        "tee terraform.tfvars <<'EOF'\n",
        "# use keys and project ID from your existing project\n",
        "\n",
        "ts_access_key=\"01JR8823FVNHNQZY0TJBXXXX\"\n",
        "ts_secret_key=\"j68Od78cDOKJItUCnWoC7PQPkGSkIpbPaaU2aquwkErrqIYgB3xCmAQXV71xxxxx\"\n",
        "ts_project_id=\"ocssgixxxx\"\n",
        "\n",
        "EOF"
      ],
      "metadata": {
        "colab": {
          "base_uri": "https://localhost:8080/"
        },
        "id": "_X2C05u0E0Gw",
        "outputId": "ce55da78-f947-47a1-d5e7-4e3f04b7f45e"
      },
      "execution_count": 22,
      "outputs": [
        {
          "output_type": "stream",
          "name": "stdout",
          "text": [
            "# use keys and project ID from your existing project\n",
            "\n",
            "ts_access_key=\"01JR8823FVNHNQZY0TJBXXXX\"\n",
            "ts_secret_key=\"j68Od78cDOKJItUCnWoC7PQPkGSkIpbPaaU2aquwkErrqIYgB3xCmAQXV71xxxxx\"\n",
            "ts_project_id=\"ocssgixxxx\"\n",
            "\n"
          ]
        }
      ]
    },
    {
      "cell_type": "code",
      "source": [
        "%%bash\n",
        "# Create main.tf\n",
        "tee main.tf <<EOF\n",
        "terraform {\n",
        "  required_providers {\n",
        "    timescale = {\n",
        "      source  = \"timescale/timescale\"\n",
        "      version = \"~> 1.13.1\"\n",
        "    }\n",
        "  }\n",
        "}\n",
        "\n",
        "# Authenticate using client credentials.\n",
        "# They are issued through the Timescale UI.\n",
        "# When required, they will exchange for a short-lived JWT to do the calls.\n",
        "provider \"timescale\" {\n",
        "  project_id = var.ts_project_id\n",
        "  access_key = var.ts_access_key\n",
        "  secret_key = var.ts_secret_key\n",
        "}\n",
        "\n",
        "resource \"timescale_service\" \"test\" {\n",
        "  name       = \"anton-tf-test\"\n",
        "  milli_cpu  = 500\n",
        "  memory_gb  = 2\n",
        "  region_code = \"us-east-1\"\n",
        "  enable_ha_replica = false\n",
        "  timeouts = {\n",
        "    create = \"30m\"\n",
        "  }\n",
        "}\n",
        "EOF\n",
        "\n"
      ],
      "metadata": {
        "colab": {
          "base_uri": "https://localhost:8080/"
        },
        "id": "sLSA-di28E--",
        "outputId": "17c10df8-d44b-4238-c703-f0801a7da3e1"
      },
      "execution_count": 4,
      "outputs": [
        {
          "output_type": "stream",
          "name": "stdout",
          "text": [
            "terraform {\n",
            "  required_providers {\n",
            "    timescale = {\n",
            "      source  = \"timescale/timescale\"\n",
            "      version = \"~> 1.13.1\"\n",
            "    }\n",
            "  }\n",
            "}\n",
            "\n",
            "# Authenticate using client credentials.\n",
            "# They are issued through the Timescale UI.\n",
            "# When required, they will exchange for a short-lived JWT to do the calls.\n",
            "provider \"timescale\" {\n",
            "  project_id = var.ts_project_id\n",
            "  access_key = var.ts_access_key\n",
            "  secret_key = var.ts_secret_key\n",
            "}\n",
            "\n",
            "resource \"timescale_service\" \"test\" {\n",
            "  name       = \"anton-tf-test\"\n",
            "  milli_cpu  = 500\n",
            "  memory_gb  = 2\n",
            "  region_code = \"us-east-1\"\n",
            "  enable_ha_replica = false\n",
            "  timeouts = {\n",
            "    create = \"30m\"\n",
            "  }\n",
            "}\n"
          ]
        }
      ]
    },
    {
      "cell_type": "code",
      "source": [
        "%%bash\n",
        "# Create variables.tf\n",
        "tee variables.tf <<EOF\n",
        "variable \"ts_project_id\" {\n",
        "  type = string\n",
        "  //default = \"ocssgijxxx\"\n",
        "}\n",
        "\n",
        "variable \"ts_access_key\" {\n",
        "  type = string\n",
        "  //default = \"01JR8823FVNHNQZY0TJB6XXXXX\"\n",
        "}\n",
        "\n",
        "variable \"ts_secret_key\" {\n",
        "  type      = string\n",
        "  sensitive = true\n",
        "  //default = \"j68Od78cDOKJItUCnWoC7PQPkGSkIpbPaaU2aquwkErrqIYgB3xCmxxXXxxXX\"\n",
        "}\n",
        "EOF"
      ],
      "metadata": {
        "colab": {
          "base_uri": "https://localhost:8080/"
        },
        "id": "9hqB90hq8mtR",
        "outputId": "90074a2e-babc-4f57-8bdf-3d3c8a3d3602"
      },
      "execution_count": 5,
      "outputs": [
        {
          "output_type": "stream",
          "name": "stdout",
          "text": [
            "variable \"ts_project_id\" {\n",
            "  type = string\n",
            "  //default = \"ocssgijxxx\"\n",
            "}\n",
            "\n",
            "variable \"ts_access_key\" {\n",
            "  type = string\n",
            "  //default = \"01JR8823FVNHNQZY0TJB6XXXXX\"\n",
            "}\n",
            "\n",
            "variable \"ts_secret_key\" {\n",
            "  type      = string\n",
            "  sensitive = true\n",
            "  //default = \"j68Od78cDOKJItUCnWoC7PQPkGSkIpbPaaU2aquwkErrqIYgB3xCmxxXXxxXX\"\n",
            "}\n"
          ]
        }
      ]
    },
    {
      "cell_type": "code",
      "source": [
        "%%bash\n",
        "# Create outputs.tf\n",
        "tee outputs.tf <<'EOF'\n",
        "output \"timescale_service_hostname\" {\n",
        "  value = timescale_service.test.hostname\n",
        "}\n",
        "\n",
        "output \"timescale_service_port\" {\n",
        "  value = timescale_service.test.port\n",
        "}\n",
        "\n",
        "output \"timescale_service_password\" {\n",
        "  value = timescale_service.test.password\n",
        "  sensitive = true\n",
        "}\n",
        "\n",
        "output \"timescale_service_psql\" {\n",
        "  value = \"psql -d \\\"postgres://tsdbadmin:${timescale_service.test.password}@${timescale_service.test.hostname}:${timescale_service.test.port}/tsdb?sslmode=require\\\"\"\n",
        "  sensitive = true\n",
        "}\n",
        "EOF"
      ],
      "metadata": {
        "colab": {
          "base_uri": "https://localhost:8080/"
        },
        "id": "eRsAOBbI8z1Y",
        "outputId": "275f7111-deaf-4ad9-851f-6d5ac6aded2b"
      },
      "execution_count": 6,
      "outputs": [
        {
          "output_type": "stream",
          "name": "stdout",
          "text": [
            "output \"timescale_service_hostname\" {\n",
            "  value = timescale_service.test.hostname\n",
            "}\n",
            "\n",
            "output \"timescale_service_port\" {\n",
            "  value = timescale_service.test.port\n",
            "}\n",
            "\n",
            "output \"timescale_service_password\" {\n",
            "  value = timescale_service.test.password\n",
            "  sensitive = true\n",
            "}\n",
            "\n",
            "output \"timescale_service_psql\" {\n",
            "  value = \"psql -d \\\"postgres://tsdbadmin:${timescale_service.test.password}@${timescale_service.test.hostname}:${timescale_service.test.port}/tsdb?sslmode=require\\\"\"\n",
            "  sensitive = true\n",
            "}\n"
          ]
        }
      ]
    },
    {
      "cell_type": "code",
      "source": [
        "%%bash\n",
        "terraform init"
      ],
      "metadata": {
        "colab": {
          "base_uri": "https://localhost:8080/"
        },
        "id": "vRuyFLlJ_S1u",
        "outputId": "3e96d736-025d-43d8-8137-b097fb924d09"
      },
      "execution_count": 7,
      "outputs": [
        {
          "output_type": "stream",
          "name": "stdout",
          "text": [
            "\u001b[0m\u001b[1mInitializing the backend...\u001b[0m\n",
            "\u001b[0m\u001b[1mInitializing provider plugins...\u001b[0m\n",
            "- Finding timescale/timescale versions matching \"~> 1.13.1\"...\n",
            "- Installing timescale/timescale v1.13.1...\n",
            "- Installed timescale/timescale v1.13.1 (signed by a HashiCorp partner, key ID \u001b[0m\u001b[1mB56785AF7539DE30\u001b[0m\u001b[0m)\n",
            "Partner and community providers are signed by their developers.\n",
            "If you'd like to know more about provider signing, you can read about it here:\n",
            "https://developer.hashicorp.com/terraform/cli/plugins/signing\n",
            "Terraform has created a lock file \u001b[1m.terraform.lock.hcl\u001b[0m to record the provider\n",
            "selections it made above. Include this file in your version control repository\n",
            "so that Terraform can guarantee to make the same selections by default when\n",
            "you run \"terraform init\" in the future.\u001b[0m\n",
            "\n",
            "\u001b[0m\u001b[1m\u001b[32mTerraform has been successfully initialized!\u001b[0m\u001b[32m\u001b[0m\n",
            "\u001b[0m\u001b[32m\n",
            "You may now begin working with Terraform. Try running \"terraform plan\" to see\n",
            "any changes that are required for your infrastructure. All Terraform commands\n",
            "should now work.\n",
            "\n",
            "If you ever set or change modules or backend configuration for Terraform,\n",
            "rerun this command to reinitialize your working directory. If you forget, other\n",
            "commands will detect it and remind you to do so if necessary.\u001b[0m\n"
          ]
        }
      ]
    },
    {
      "cell_type": "code",
      "source": [
        "%%bash\n",
        "terraform validate"
      ],
      "metadata": {
        "colab": {
          "base_uri": "https://localhost:8080/"
        },
        "id": "VSsTJ4Ql_ZkV",
        "outputId": "b81af27e-cbba-4187-d6f6-9bcb4c254527"
      },
      "execution_count": 8,
      "outputs": [
        {
          "output_type": "stream",
          "name": "stdout",
          "text": [
            "\u001b[32m\u001b[1mSuccess!\u001b[0m The configuration is valid.\n",
            "\u001b[0m\n"
          ]
        }
      ]
    },
    {
      "cell_type": "code",
      "source": [
        "%%bash\n",
        "terraform plan"
      ],
      "metadata": {
        "colab": {
          "base_uri": "https://localhost:8080/"
        },
        "id": "8bW3GRwoGLPX",
        "outputId": "d21b6efa-ef3b-4b5f-b55b-456833f98745"
      },
      "execution_count": 18,
      "outputs": [
        {
          "output_type": "stream",
          "name": "stdout",
          "text": [
            "\n",
            "Terraform used the selected providers to generate the following execution\n",
            "plan. Resource actions are indicated with the following symbols:\n",
            "  \u001b[32m+\u001b[0m create\u001b[0m\n",
            "\n",
            "Terraform will perform the following actions:\n",
            "\n",
            "\u001b[1m  # timescale_service.test\u001b[0m will be created\n",
            "\u001b[0m  \u001b[32m+\u001b[0m\u001b[0m resource \"timescale_service\" \"test\" {\n",
            "      \u001b[32m+\u001b[0m\u001b[0m connection_pooler_enabled = false\n",
            "      \u001b[32m+\u001b[0m\u001b[0m enable_ha_replica         = false\n",
            "      \u001b[32m+\u001b[0m\u001b[0m environment_tag           = (known after apply)\n",
            "      \u001b[32m+\u001b[0m\u001b[0m hostname                  = (known after apply)\n",
            "      \u001b[32m+\u001b[0m\u001b[0m id                        = (known after apply)\n",
            "      \u001b[32m+\u001b[0m\u001b[0m memory_gb                 = 2\n",
            "      \u001b[32m+\u001b[0m\u001b[0m milli_cpu                 = 500\n",
            "      \u001b[32m+\u001b[0m\u001b[0m name                      = \"anton-tf-test\"\n",
            "      \u001b[32m+\u001b[0m\u001b[0m password                  = (sensitive value)\n",
            "      \u001b[32m+\u001b[0m\u001b[0m paused                    = false\n",
            "      \u001b[32m+\u001b[0m\u001b[0m pooler_hostname           = (known after apply)\n",
            "      \u001b[32m+\u001b[0m\u001b[0m pooler_port               = (known after apply)\n",
            "      \u001b[32m+\u001b[0m\u001b[0m port                      = (known after apply)\n",
            "      \u001b[32m+\u001b[0m\u001b[0m region_code               = \"us-east-1\"\n",
            "      \u001b[32m+\u001b[0m\u001b[0m replica_hostname          = (known after apply)\n",
            "      \u001b[32m+\u001b[0m\u001b[0m replica_port              = (known after apply)\n",
            "      \u001b[32m+\u001b[0m\u001b[0m timeouts                  = {\n",
            "          \u001b[32m+\u001b[0m\u001b[0m create = \"30m\"\n",
            "        }\n",
            "      \u001b[32m+\u001b[0m\u001b[0m username                  = (known after apply)\n",
            "    }\n",
            "\n",
            "\u001b[1mPlan:\u001b[0m 1 to add, 0 to change, 0 to destroy.\n",
            "\u001b[0m\n",
            "Changes to Outputs:\n",
            "  \u001b[32m+\u001b[0m\u001b[0m timescale_service_hostname = (known after apply)\n",
            "  \u001b[32m+\u001b[0m\u001b[0m timescale_service_password = (sensitive value)\n",
            "  \u001b[32m+\u001b[0m\u001b[0m timescale_service_port     = (known after apply)\n",
            "  \u001b[32m+\u001b[0m\u001b[0m timescale_service_psql     = (sensitive value)\n",
            "\u001b[90m\n",
            "─────────────────────────────────────────────────────────────────────────────\u001b[0m\n",
            "\n",
            "Note: You didn't use the -out option to save this plan, so Terraform can't\n",
            "guarantee to take exactly these actions if you run \"terraform apply\" now.\n"
          ]
        }
      ]
    },
    {
      "cell_type": "markdown",
      "source": [
        "## Provision Timescale Cloud service\n",
        "\n",
        "In the cell below enter access key, secret key and project ID of your timescale cloud project. To get the key navigate to Project (upper left corner) -> Project Settings -> Client Credentials -> Create Credentials\n",
        "\n",
        "**WARNING!!!** provisioning new service on Timescale Cloud might incur additional costs. Make sure to delete the service. Cleanup cell below."
      ],
      "metadata": {
        "id": "3EB9JnZa_7ij"
      }
    },
    {
      "cell_type": "code",
      "source": [
        "%%bash\n",
        "terraform apply  -auto-approve"
      ],
      "metadata": {
        "colab": {
          "base_uri": "https://localhost:8080/"
        },
        "id": "rOwW5YgR_f9Q",
        "outputId": "f4d060ae-721d-4fe3-effe-74d1f9a9258f"
      },
      "execution_count": 19,
      "outputs": [
        {
          "output_type": "stream",
          "name": "stdout",
          "text": [
            "\n",
            "Terraform used the selected providers to generate the following execution\n",
            "plan. Resource actions are indicated with the following symbols:\n",
            "  \u001b[32m+\u001b[0m create\u001b[0m\n",
            "\n",
            "Terraform will perform the following actions:\n",
            "\n",
            "\u001b[1m  # timescale_service.test\u001b[0m will be created\n",
            "\u001b[0m  \u001b[32m+\u001b[0m\u001b[0m resource \"timescale_service\" \"test\" {\n",
            "      \u001b[32m+\u001b[0m\u001b[0m connection_pooler_enabled = false\n",
            "      \u001b[32m+\u001b[0m\u001b[0m enable_ha_replica         = false\n",
            "      \u001b[32m+\u001b[0m\u001b[0m environment_tag           = (known after apply)\n",
            "      \u001b[32m+\u001b[0m\u001b[0m hostname                  = (known after apply)\n",
            "      \u001b[32m+\u001b[0m\u001b[0m id                        = (known after apply)\n",
            "      \u001b[32m+\u001b[0m\u001b[0m memory_gb                 = 2\n",
            "      \u001b[32m+\u001b[0m\u001b[0m milli_cpu                 = 500\n",
            "      \u001b[32m+\u001b[0m\u001b[0m name                      = \"anton-tf-test\"\n",
            "      \u001b[32m+\u001b[0m\u001b[0m password                  = (sensitive value)\n",
            "      \u001b[32m+\u001b[0m\u001b[0m paused                    = false\n",
            "      \u001b[32m+\u001b[0m\u001b[0m pooler_hostname           = (known after apply)\n",
            "      \u001b[32m+\u001b[0m\u001b[0m pooler_port               = (known after apply)\n",
            "      \u001b[32m+\u001b[0m\u001b[0m port                      = (known after apply)\n",
            "      \u001b[32m+\u001b[0m\u001b[0m region_code               = \"us-east-1\"\n",
            "      \u001b[32m+\u001b[0m\u001b[0m replica_hostname          = (known after apply)\n",
            "      \u001b[32m+\u001b[0m\u001b[0m replica_port              = (known after apply)\n",
            "      \u001b[32m+\u001b[0m\u001b[0m timeouts                  = {\n",
            "          \u001b[32m+\u001b[0m\u001b[0m create = \"30m\"\n",
            "        }\n",
            "      \u001b[32m+\u001b[0m\u001b[0m username                  = (known after apply)\n",
            "    }\n",
            "\n",
            "\u001b[1mPlan:\u001b[0m 1 to add, 0 to change, 0 to destroy.\n",
            "\u001b[0m\n",
            "Changes to Outputs:\n",
            "  \u001b[32m+\u001b[0m\u001b[0m timescale_service_hostname = (known after apply)\n",
            "  \u001b[32m+\u001b[0m\u001b[0m timescale_service_password = (sensitive value)\n",
            "  \u001b[32m+\u001b[0m\u001b[0m timescale_service_port     = (known after apply)\n",
            "  \u001b[32m+\u001b[0m\u001b[0m timescale_service_psql     = (sensitive value)\n",
            "\u001b[0m\u001b[1mtimescale_service.test: Creating...\u001b[0m\u001b[0m\n",
            "\u001b[0m\u001b[1mtimescale_service.test: Still creating... [10s elapsed]\u001b[0m\u001b[0m\n",
            "\u001b[0m\u001b[1mtimescale_service.test: Still creating... [20s elapsed]\u001b[0m\u001b[0m\n",
            "\u001b[0m\u001b[1mtimescale_service.test: Still creating... [30s elapsed]\u001b[0m\u001b[0m\n",
            "\u001b[0m\u001b[1mtimescale_service.test: Creation complete after 32s [id=sjm7ygzz7c]\u001b[0m\n",
            "\u001b[0m\u001b[1m\u001b[32m\n",
            "Apply complete! Resources: 1 added, 0 changed, 0 destroyed.\n",
            "\u001b[0m\u001b[0m\u001b[1m\u001b[32m\n",
            "Outputs:\n",
            "\n",
            "\u001b[0mtimescale_service_hostname = \"sjm7ygzz7c.ocssgijfrc.tsdb.cloud.timescale.com\"\n",
            "timescale_service_password = <sensitive>\n",
            "timescale_service_port = 37218\n",
            "timescale_service_psql = <sensitive>\n"
          ]
        }
      ]
    },
    {
      "cell_type": "code",
      "source": [
        "# output psql connection string for your service\n",
        "!terraform output timescale_service_psql"
      ],
      "metadata": {
        "id": "PWpepo5HAEYM"
      },
      "execution_count": null,
      "outputs": []
    },
    {
      "cell_type": "markdown",
      "source": [
        "## Cleanup"
      ],
      "metadata": {
        "id": "1mRqRIzuDOP2"
      }
    },
    {
      "cell_type": "code",
      "source": [
        "%%bash\n",
        "# delete service\n",
        "terraform destroy  -auto-approve"
      ],
      "metadata": {
        "colab": {
          "base_uri": "https://localhost:8080/"
        },
        "id": "T6mb2KlvDGvy",
        "outputId": "70ba0c0a-be65-4139-9125-66f3806bfe94"
      },
      "execution_count": 21,
      "outputs": [
        {
          "output_type": "stream",
          "name": "stdout",
          "text": [
            "\u001b[0m\u001b[1mtimescale_service.test: Refreshing state... [id=sjm7ygzz7c]\u001b[0m\n",
            "\n",
            "Terraform used the selected providers to generate the following execution\n",
            "plan. Resource actions are indicated with the following symbols:\n",
            "  \u001b[31m-\u001b[0m destroy\u001b[0m\n",
            "\n",
            "Terraform will perform the following actions:\n",
            "\n",
            "\u001b[1m  # timescale_service.test\u001b[0m will be \u001b[1m\u001b[31mdestroyed\u001b[0m\n",
            "\u001b[0m  \u001b[31m-\u001b[0m\u001b[0m resource \"timescale_service\" \"test\" {\n",
            "      \u001b[31m-\u001b[0m\u001b[0m connection_pooler_enabled = false \u001b[90m-> null\u001b[0m\u001b[0m\n",
            "      \u001b[31m-\u001b[0m\u001b[0m enable_ha_replica         = false \u001b[90m-> null\u001b[0m\u001b[0m\n",
            "      \u001b[31m-\u001b[0m\u001b[0m environment_tag           = \"DEV\" \u001b[90m-> null\u001b[0m\u001b[0m\n",
            "      \u001b[31m-\u001b[0m\u001b[0m hostname                  = \"sjm7ygzz7c.ocssgijfrc.tsdb.cloud.timescale.com\" \u001b[90m-> null\u001b[0m\u001b[0m\n",
            "      \u001b[31m-\u001b[0m\u001b[0m id                        = \"sjm7ygzz7c\" \u001b[90m-> null\u001b[0m\u001b[0m\n",
            "      \u001b[31m-\u001b[0m\u001b[0m memory_gb                 = 2 \u001b[90m-> null\u001b[0m\u001b[0m\n",
            "      \u001b[31m-\u001b[0m\u001b[0m milli_cpu                 = 500 \u001b[90m-> null\u001b[0m\u001b[0m\n",
            "      \u001b[31m-\u001b[0m\u001b[0m name                      = \"anton-tf-test\" \u001b[90m-> null\u001b[0m\u001b[0m\n",
            "      \u001b[31m-\u001b[0m\u001b[0m password                  = (sensitive value) \u001b[90m-> null\u001b[0m\u001b[0m\n",
            "      \u001b[31m-\u001b[0m\u001b[0m paused                    = false \u001b[90m-> null\u001b[0m\u001b[0m\n",
            "      \u001b[31m-\u001b[0m\u001b[0m port                      = 37218 \u001b[90m-> null\u001b[0m\u001b[0m\n",
            "      \u001b[31m-\u001b[0m\u001b[0m region_code               = \"us-east-1\" \u001b[90m-> null\u001b[0m\u001b[0m\n",
            "      \u001b[31m-\u001b[0m\u001b[0m timeouts                  = {\n",
            "          \u001b[31m-\u001b[0m\u001b[0m create = \"30m\" \u001b[90m-> null\u001b[0m\u001b[0m\n",
            "        } \u001b[90m-> null\u001b[0m\u001b[0m\n",
            "      \u001b[31m-\u001b[0m\u001b[0m username                  = \"tsdbadmin\" \u001b[90m-> null\u001b[0m\u001b[0m\n",
            "    }\n",
            "\n",
            "\u001b[1mPlan:\u001b[0m 0 to add, 0 to change, 1 to destroy.\n",
            "\u001b[0m\n",
            "Changes to Outputs:\n",
            "  \u001b[31m-\u001b[0m\u001b[0m timescale_service_hostname = \"sjm7ygzz7c.ocssgijfrc.tsdb.cloud.timescale.com\" \u001b[90m-> null\u001b[0m\u001b[0m\n",
            "  \u001b[31m-\u001b[0m\u001b[0m timescale_service_password = (sensitive value) \u001b[90m-> null\u001b[0m\u001b[0m\n",
            "  \u001b[31m-\u001b[0m\u001b[0m timescale_service_port     = 37218 \u001b[90m-> null\u001b[0m\u001b[0m\n",
            "  \u001b[31m-\u001b[0m\u001b[0m timescale_service_psql     = (sensitive value) \u001b[90m-> null\u001b[0m\u001b[0m\n",
            "\u001b[0m\u001b[1mtimescale_service.test: Destroying... [id=sjm7ygzz7c]\u001b[0m\u001b[0m\n",
            "\u001b[0m\u001b[1mtimescale_service.test: Destruction complete after 0s\u001b[0m\n",
            "\u001b[0m\u001b[1m\u001b[32m\n",
            "Destroy complete! Resources: 1 destroyed.\n",
            "\u001b[0m"
          ]
        }
      ]
    }
  ]
}